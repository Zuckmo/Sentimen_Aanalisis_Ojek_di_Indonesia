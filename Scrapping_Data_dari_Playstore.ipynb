{
  "nbformat": 4,
  "nbformat_minor": 0,
  "metadata": {
    "colab": {
      "provenance": []
    },
    "kernelspec": {
      "name": "python3",
      "display_name": "Python 3"
    },
    "language_info": {
      "name": "python"
    }
  },
  "cells": [
    {
      "cell_type": "code",
      "execution_count": 25,
      "metadata": {
        "colab": {
          "base_uri": "https://localhost:8080/"
        },
        "id": "LJhkB85Ya2VP",
        "outputId": "4fc22e44-8312-4b19-dab7-ea61196bd9e8"
      },
      "outputs": [
        {
          "output_type": "stream",
          "name": "stdout",
          "text": [
            "Requirement already satisfied: google-play-scraper in /usr/local/lib/python3.11/dist-packages (1.2.7)\n",
            "Requirement already satisfied: pandas in /usr/local/lib/python3.11/dist-packages (2.2.2)\n",
            "Requirement already satisfied: numpy>=1.23.2 in /usr/local/lib/python3.11/dist-packages (from pandas) (2.0.2)\n",
            "Requirement already satisfied: python-dateutil>=2.8.2 in /usr/local/lib/python3.11/dist-packages (from pandas) (2.8.2)\n",
            "Requirement already satisfied: pytz>=2020.1 in /usr/local/lib/python3.11/dist-packages (from pandas) (2025.2)\n",
            "Requirement already satisfied: tzdata>=2022.7 in /usr/local/lib/python3.11/dist-packages (from pandas) (2025.2)\n",
            "Requirement already satisfied: six>=1.5 in /usr/local/lib/python3.11/dist-packages (from python-dateutil>=2.8.2->pandas) (1.17.0)\n"
          ]
        }
      ],
      "source": [
        "pip install google-play-scraper pandas\n"
      ]
    },
    {
      "cell_type": "code",
      "source": [
        "from google_play_scraper import reviews, Sort\n",
        "import pandas as pd\n",
        "\n",
        "apps = {\n",
        "    \"nujek\": \"com.nujek.user\",\n",
        "    \"maxim\": \"com.taxsee.taxsee\",\n",
        "    \"gojek\": \"com.gojek.app\"\n",
        "}\n",
        "\n",
        "def get_reviews(app_name, app_id, total=20000):\n",
        "    all_reviews = []\n",
        "    count = 0\n",
        "\n",
        "    while count < total:\n",
        "        try:\n",
        "            review_batch, _ = reviews(\n",
        "                app_id,\n",
        "                lang=\"id\",\n",
        "                country=\"id\",\n",
        "                sort=Sort.MOST_RELEVANT,\n",
        "                count=20000,\n",
        "                filter_score_with=None\n",
        "            )\n",
        "            all_reviews.extend(review_batch)\n",
        "            count = len(all_reviews)\n",
        "            print(f\"{app_name}: {count} reviews collected...\")\n",
        "        except Exception as e:\n",
        "            print(\"Error:\", e)\n",
        "            break\n",
        "\n",
        "    df = pd.DataFrame(all_reviews)\n",
        "    df['app_name'] = app_name\n",
        "    return df.head(total)\n",
        "\n",
        "# Menggabungkan semua review\n",
        "final_df = pd.DataFrame()\n",
        "for name, app_id in apps.items():\n",
        "    df = get_reviews(name, app_id, total=10000)\n",
        "    final_df = pd.concat([final_df, df], ignore_index=True)\n",
        "\n",
        "# Hapus kolom yang tidak perlu\n",
        "columns_to_drop = [\n",
        "    'reviewId', 'userImage', 'thumbsUpCount',\n",
        "    'reviewCreatedVersion', 'at', 'replyContent',\n",
        "    'repliedAt', 'appVersion'\n",
        "]\n",
        "final_df = final_df.drop(columns=columns_to_drop, errors='ignore')\n",
        "\n",
        "# Simpan hasil ke CSV\n",
        "final_df.to_csv('playstore_reviews.csv', index=False)\n",
        "print(\"Selesai! Komentar disimpan ke playstore_reviews.csv\")\n"
      ],
      "metadata": {
        "colab": {
          "base_uri": "https://localhost:8080/"
        },
        "id": "p5LKZV6GdXJs",
        "outputId": "3d214f3d-e0cf-483e-b45e-048ec0b874dc"
      },
      "execution_count": 26,
      "outputs": [
        {
          "output_type": "stream",
          "name": "stdout",
          "text": [
            "nujek: 3298 reviews collected...\n",
            "nujek: 6596 reviews collected...\n",
            "nujek: 9894 reviews collected...\n",
            "nujek: 13192 reviews collected...\n",
            "maxim: 20000 reviews collected...\n",
            "gojek: 20000 reviews collected...\n",
            "Selesai! Komentar disimpan ke playstore_reviews.csv\n"
          ]
        }
      ]
    },
    {
      "cell_type": "markdown",
      "source": [],
      "metadata": {
        "id": "UklzMnHpZkZy"
      }
    },
    {
      "cell_type": "code",
      "source": [
        "\n",
        "\n",
        "print(\"\\nJumlah baris per aplikasi:\")\n",
        "for app_name in apps:\n",
        "    app_reviews = final_df[final_df['app_name'] == app_name]\n",
        "    num_reviews = len(app_reviews)\n",
        "    print(f\"{app_name}: {num_reviews} baris\")\n"
      ],
      "metadata": {
        "colab": {
          "base_uri": "https://localhost:8080/"
        },
        "id": "_WDWkOu5ZCco",
        "outputId": "4071376d-3eb9-4f7c-b951-6f256a53f2a6"
      },
      "execution_count": 27,
      "outputs": [
        {
          "output_type": "stream",
          "name": "stdout",
          "text": [
            "\n",
            "Jumlah baris per aplikasi:\n",
            "nujek: 10000 baris\n",
            "maxim: 10000 baris\n",
            "gojek: 10000 baris\n"
          ]
        }
      ]
    },
    {
      "cell_type": "code",
      "source": [],
      "metadata": {
        "id": "4mgGrpanZaHJ"
      },
      "execution_count": 27,
      "outputs": []
    }
  ]
}