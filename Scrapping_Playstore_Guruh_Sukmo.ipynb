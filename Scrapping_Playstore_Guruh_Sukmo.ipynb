{
  "nbformat": 4,
  "nbformat_minor": 0,
  "metadata": {
    "colab": {
      "provenance": []
    },
    "kernelspec": {
      "name": "python3",
      "display_name": "Python 3"
    },
    "language_info": {
      "name": "python"
    }
  },
  "cells": [
    {
      "cell_type": "markdown",
      "source": [
        "# Nama : Guruh Sukmo\n",
        "# Akun cohort : a209ybf187@devacademy.id"
      ],
      "metadata": {
        "id": "5Sx3unIznb2t"
      }
    },
    {
      "cell_type": "code",
      "execution_count": 1,
      "metadata": {
        "colab": {
          "base_uri": "https://localhost:8080/"
        },
        "id": "LJhkB85Ya2VP",
        "outputId": "2876f9d1-d978-4161-b2fd-e677b8aa7cb3"
      },
      "outputs": [
        {
          "output_type": "stream",
          "name": "stdout",
          "text": [
            "Collecting google-play-scraper\n",
            "  Downloading google_play_scraper-1.2.7-py3-none-any.whl.metadata (50 kB)\n",
            "\u001b[?25l     \u001b[90m━━━━━━━━━━━━━━━━━━━━━━━━━━━━━━━━━━━━━━━━\u001b[0m \u001b[32m0.0/50.2 kB\u001b[0m \u001b[31m?\u001b[0m eta \u001b[36m-:--:--\u001b[0m\r\u001b[2K     \u001b[90m━━━━━━━━━━━━━━━━━━━━━━━━━━━━━━━━━━━━━━━━\u001b[0m \u001b[32m50.2/50.2 kB\u001b[0m \u001b[31m2.2 MB/s\u001b[0m eta \u001b[36m0:00:00\u001b[0m\n",
            "\u001b[?25hRequirement already satisfied: pandas in /usr/local/lib/python3.11/dist-packages (2.2.2)\n",
            "Requirement already satisfied: numpy>=1.23.2 in /usr/local/lib/python3.11/dist-packages (from pandas) (2.0.2)\n",
            "Requirement already satisfied: python-dateutil>=2.8.2 in /usr/local/lib/python3.11/dist-packages (from pandas) (2.8.2)\n",
            "Requirement already satisfied: pytz>=2020.1 in /usr/local/lib/python3.11/dist-packages (from pandas) (2025.2)\n",
            "Requirement already satisfied: tzdata>=2022.7 in /usr/local/lib/python3.11/dist-packages (from pandas) (2025.2)\n",
            "Requirement already satisfied: six>=1.5 in /usr/local/lib/python3.11/dist-packages (from python-dateutil>=2.8.2->pandas) (1.17.0)\n",
            "Downloading google_play_scraper-1.2.7-py3-none-any.whl (28 kB)\n",
            "Installing collected packages: google-play-scraper\n",
            "Successfully installed google-play-scraper-1.2.7\n"
          ]
        }
      ],
      "source": [
        "pip install google-play-scraper pandas\n"
      ]
    },
    {
      "cell_type": "code",
      "source": [
        "from google_play_scraper import reviews, Sort\n",
        "import pandas as pd\n",
        "\n",
        "apps = {\n",
        "    \"nujek\": \"com.nujek.user\",\n",
        "    \"maxim\": \"com.taxsee.taxsee\",\n",
        "    \"gojek\": \"com.gojek.app\"\n",
        "}\n",
        "\n",
        "def get_reviews(app_name, app_id, total=20000):\n",
        "    all_reviews = []\n",
        "    count = 0\n",
        "\n",
        "    while count < total:\n",
        "        try:\n",
        "            review_batch, _ = reviews(\n",
        "                app_id,\n",
        "                lang=\"id\",\n",
        "                country=\"id\",\n",
        "                sort=Sort.MOST_RELEVANT,\n",
        "                count=20000,\n",
        "                filter_score_with=None\n",
        "            )\n",
        "            all_reviews.extend(review_batch)\n",
        "            count = len(all_reviews)\n",
        "            print(f\"{app_name}: {count} reviews collected...\")\n",
        "        except Exception as e:\n",
        "            print(\"Error:\", e)\n",
        "            break\n",
        "\n",
        "    df = pd.DataFrame(all_reviews)\n",
        "    df['app_name'] = app_name\n",
        "    return df.head(total)\n",
        "\n",
        "# Menggabungkan semua review\n",
        "final_df = pd.DataFrame()\n",
        "for name, app_id in apps.items():\n",
        "    df = get_reviews(name, app_id, total=10000)\n",
        "    final_df = pd.concat([final_df, df], ignore_index=True)\n",
        "\n",
        "# Hapus kolom yang tidak perlu\n",
        "columns_to_drop = [\n",
        "    'reviewId', 'userImage', 'thumbsUpCount',\n",
        "    'reviewCreatedVersion', 'replyContent',\n",
        "    'repliedAt', 'appVersion'\n",
        "]\n",
        "final_df = final_df.drop(columns=columns_to_drop, errors='ignore')\n",
        "\n",
        "# Simpan hasil ke CSV\n",
        "final_df.to_csv('playstore_reviews.csv', index=False)\n",
        "print(\"Selesai! Komentar disimpan ke playstore_reviews.csv\")\n"
      ],
      "metadata": {
        "colab": {
          "base_uri": "https://localhost:8080/"
        },
        "id": "p5LKZV6GdXJs",
        "outputId": "33967ac8-e423-4220-bdb5-b7cdd4477be7"
      },
      "execution_count": 2,
      "outputs": [
        {
          "output_type": "stream",
          "name": "stdout",
          "text": [
            "nujek: 3298 reviews collected...\n",
            "nujek: 6596 reviews collected...\n",
            "nujek: 9894 reviews collected...\n",
            "nujek: 13192 reviews collected...\n",
            "maxim: 20000 reviews collected...\n",
            "gojek: 20000 reviews collected...\n",
            "Selesai! Komentar disimpan ke playstore_reviews.csv\n"
          ]
        }
      ]
    },
    {
      "cell_type": "markdown",
      "source": [],
      "metadata": {
        "id": "UklzMnHpZkZy"
      }
    },
    {
      "cell_type": "code",
      "source": [
        "\n",
        "\n",
        "print(\"\\nJumlah baris per aplikasi:\")\n",
        "for app_name in apps:\n",
        "    app_reviews = final_df[final_df['app_name'] == app_name]\n",
        "    num_reviews = len(app_reviews)\n",
        "    print(f\"{app_name}: {num_reviews} baris\")\n"
      ],
      "metadata": {
        "colab": {
          "base_uri": "https://localhost:8080/"
        },
        "id": "_WDWkOu5ZCco",
        "outputId": "fd15ba5d-4790-4435-de70-2ef8235b9171"
      },
      "execution_count": 3,
      "outputs": [
        {
          "output_type": "stream",
          "name": "stdout",
          "text": [
            "\n",
            "Jumlah baris per aplikasi:\n",
            "nujek: 10000 baris\n",
            "maxim: 10000 baris\n",
            "gojek: 10000 baris\n"
          ]
        }
      ]
    },
    {
      "cell_type": "code",
      "source": [
        "final_df.info()"
      ],
      "metadata": {
        "id": "4mgGrpanZaHJ",
        "colab": {
          "base_uri": "https://localhost:8080/"
        },
        "outputId": "e616c493-534b-44c4-8e03-f62015e5282d"
      },
      "execution_count": 4,
      "outputs": [
        {
          "output_type": "stream",
          "name": "stdout",
          "text": [
            "<class 'pandas.core.frame.DataFrame'>\n",
            "RangeIndex: 30000 entries, 0 to 29999\n",
            "Data columns (total 5 columns):\n",
            " #   Column    Non-Null Count  Dtype         \n",
            "---  ------    --------------  -----         \n",
            " 0   userName  30000 non-null  object        \n",
            " 1   content   30000 non-null  object        \n",
            " 2   score     30000 non-null  int64         \n",
            " 3   at        30000 non-null  datetime64[ns]\n",
            " 4   app_name  30000 non-null  object        \n",
            "dtypes: datetime64[ns](1), int64(1), object(3)\n",
            "memory usage: 1.1+ MB\n"
          ]
        }
      ]
    },
    {
      "cell_type": "code",
      "source": [],
      "metadata": {
        "id": "GJ15z4gbnYxF"
      },
      "execution_count": null,
      "outputs": []
    }
  ]
}